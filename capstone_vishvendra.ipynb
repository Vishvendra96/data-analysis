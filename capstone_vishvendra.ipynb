{
 "cells": [
  {
   "cell_type": "code",
   "execution_count": 1,
   "id": "da09d48d",
   "metadata": {},
   "outputs": [],
   "source": [
    "import pandas as pd\n",
    "import numpy as np\n",
    "import matplotlib.pyplot as plt\n",
    "import seaborn as sns\n",
    "import patsy\n",
    "import statsmodels.api as sm\n",
    "\n"
   ]
  },
  {
   "cell_type": "code",
   "execution_count": 2,
   "id": "4d45d7e6",
   "metadata": {},
   "outputs": [],
   "source": [
    "suicide_data= pd.read_csv('C:/Users/vishu/Downloads/suicide_rate.csv')"
   ]
  },
  {
   "cell_type": "code",
   "execution_count": 3,
   "id": "4b4450a5",
   "metadata": {},
   "outputs": [
    {
     "data": {
      "text/html": [
       "<div>\n",
       "<style scoped>\n",
       "    .dataframe tbody tr th:only-of-type {\n",
       "        vertical-align: middle;\n",
       "    }\n",
       "\n",
       "    .dataframe tbody tr th {\n",
       "        vertical-align: top;\n",
       "    }\n",
       "\n",
       "    .dataframe thead th {\n",
       "        text-align: right;\n",
       "    }\n",
       "</style>\n",
       "<table border=\"1\" class=\"dataframe\">\n",
       "  <thead>\n",
       "    <tr style=\"text-align: right;\">\n",
       "      <th></th>\n",
       "      <th>country</th>\n",
       "      <th>year</th>\n",
       "      <th>sex</th>\n",
       "      <th>age</th>\n",
       "      <th>suicides_no</th>\n",
       "      <th>population</th>\n",
       "      <th>suicides/100k pop</th>\n",
       "      <th>country-year</th>\n",
       "      <th>HDI for year</th>\n",
       "      <th>gdp_for_year ($)</th>\n",
       "      <th>gdp_per_capita ($)</th>\n",
       "      <th>generation</th>\n",
       "    </tr>\n",
       "  </thead>\n",
       "  <tbody>\n",
       "    <tr>\n",
       "      <th>0</th>\n",
       "      <td>Albania</td>\n",
       "      <td>1987</td>\n",
       "      <td>male</td>\n",
       "      <td>15-24 years</td>\n",
       "      <td>21</td>\n",
       "      <td>312900</td>\n",
       "      <td>6.71</td>\n",
       "      <td>Albania1987</td>\n",
       "      <td>NaN</td>\n",
       "      <td>2,156,624,900</td>\n",
       "      <td>796</td>\n",
       "      <td>Generation X</td>\n",
       "    </tr>\n",
       "    <tr>\n",
       "      <th>1</th>\n",
       "      <td>Albania</td>\n",
       "      <td>1987</td>\n",
       "      <td>male</td>\n",
       "      <td>35-54 years</td>\n",
       "      <td>16</td>\n",
       "      <td>308000</td>\n",
       "      <td>5.19</td>\n",
       "      <td>Albania1987</td>\n",
       "      <td>NaN</td>\n",
       "      <td>2,156,624,900</td>\n",
       "      <td>796</td>\n",
       "      <td>Silent</td>\n",
       "    </tr>\n",
       "    <tr>\n",
       "      <th>2</th>\n",
       "      <td>Albania</td>\n",
       "      <td>1987</td>\n",
       "      <td>female</td>\n",
       "      <td>15-24 years</td>\n",
       "      <td>14</td>\n",
       "      <td>289700</td>\n",
       "      <td>4.83</td>\n",
       "      <td>Albania1987</td>\n",
       "      <td>NaN</td>\n",
       "      <td>2,156,624,900</td>\n",
       "      <td>796</td>\n",
       "      <td>Generation X</td>\n",
       "    </tr>\n",
       "    <tr>\n",
       "      <th>3</th>\n",
       "      <td>Albania</td>\n",
       "      <td>1987</td>\n",
       "      <td>male</td>\n",
       "      <td>75+ years</td>\n",
       "      <td>1</td>\n",
       "      <td>21800</td>\n",
       "      <td>4.59</td>\n",
       "      <td>Albania1987</td>\n",
       "      <td>NaN</td>\n",
       "      <td>2,156,624,900</td>\n",
       "      <td>796</td>\n",
       "      <td>G.I. Generation</td>\n",
       "    </tr>\n",
       "    <tr>\n",
       "      <th>4</th>\n",
       "      <td>Albania</td>\n",
       "      <td>1987</td>\n",
       "      <td>male</td>\n",
       "      <td>25-34 years</td>\n",
       "      <td>9</td>\n",
       "      <td>274300</td>\n",
       "      <td>3.28</td>\n",
       "      <td>Albania1987</td>\n",
       "      <td>NaN</td>\n",
       "      <td>2,156,624,900</td>\n",
       "      <td>796</td>\n",
       "      <td>Boomers</td>\n",
       "    </tr>\n",
       "  </tbody>\n",
       "</table>\n",
       "</div>"
      ],
      "text/plain": [
       "   country  year     sex          age  suicides_no  population  \\\n",
       "0  Albania  1987    male  15-24 years           21      312900   \n",
       "1  Albania  1987    male  35-54 years           16      308000   \n",
       "2  Albania  1987  female  15-24 years           14      289700   \n",
       "3  Albania  1987    male    75+ years            1       21800   \n",
       "4  Albania  1987    male  25-34 years            9      274300   \n",
       "\n",
       "   suicides/100k pop country-year  HDI for year  gdp_for_year ($)   \\\n",
       "0               6.71  Albania1987           NaN      2,156,624,900   \n",
       "1               5.19  Albania1987           NaN      2,156,624,900   \n",
       "2               4.83  Albania1987           NaN      2,156,624,900   \n",
       "3               4.59  Albania1987           NaN      2,156,624,900   \n",
       "4               3.28  Albania1987           NaN      2,156,624,900   \n",
       "\n",
       "   gdp_per_capita ($)       generation  \n",
       "0                 796     Generation X  \n",
       "1                 796           Silent  \n",
       "2                 796     Generation X  \n",
       "3                 796  G.I. Generation  \n",
       "4                 796          Boomers  "
      ]
     },
     "execution_count": 3,
     "metadata": {},
     "output_type": "execute_result"
    }
   ],
   "source": [
    "suicide_data.head()"
   ]
  },
  {
   "cell_type": "code",
   "execution_count": 4,
   "id": "31d7d580",
   "metadata": {},
   "outputs": [
    {
     "data": {
      "text/plain": [
       "(27820, 12)"
      ]
     },
     "execution_count": 4,
     "metadata": {},
     "output_type": "execute_result"
    }
   ],
   "source": [
    "suicide_data.shape"
   ]
  },
  {
   "cell_type": "code",
   "execution_count": 5,
   "id": "bbd8a758",
   "metadata": {},
   "outputs": [
    {
     "data": {
      "text/plain": [
       "<bound method DataFrame.info of           country  year     sex          age  suicides_no  population  \\\n",
       "0         Albania  1987    male  15-24 years           21      312900   \n",
       "1         Albania  1987    male  35-54 years           16      308000   \n",
       "2         Albania  1987  female  15-24 years           14      289700   \n",
       "3         Albania  1987    male    75+ years            1       21800   \n",
       "4         Albania  1987    male  25-34 years            9      274300   \n",
       "...           ...   ...     ...          ...          ...         ...   \n",
       "27815  Uzbekistan  2014  female  35-54 years          107     3620833   \n",
       "27816  Uzbekistan  2014  female    75+ years            9      348465   \n",
       "27817  Uzbekistan  2014    male   5-14 years           60     2762158   \n",
       "27818  Uzbekistan  2014  female   5-14 years           44     2631600   \n",
       "27819  Uzbekistan  2014  female  55-74 years           21     1438935   \n",
       "\n",
       "       suicides/100k pop    country-year  HDI for year  gdp_for_year ($)   \\\n",
       "0                   6.71     Albania1987           NaN      2,156,624,900   \n",
       "1                   5.19     Albania1987           NaN      2,156,624,900   \n",
       "2                   4.83     Albania1987           NaN      2,156,624,900   \n",
       "3                   4.59     Albania1987           NaN      2,156,624,900   \n",
       "4                   3.28     Albania1987           NaN      2,156,624,900   \n",
       "...                  ...             ...           ...                ...   \n",
       "27815               2.96  Uzbekistan2014         0.675     63,067,077,179   \n",
       "27816               2.58  Uzbekistan2014         0.675     63,067,077,179   \n",
       "27817               2.17  Uzbekistan2014         0.675     63,067,077,179   \n",
       "27818               1.67  Uzbekistan2014         0.675     63,067,077,179   \n",
       "27819               1.46  Uzbekistan2014         0.675     63,067,077,179   \n",
       "\n",
       "       gdp_per_capita ($)       generation  \n",
       "0                     796     Generation X  \n",
       "1                     796           Silent  \n",
       "2                     796     Generation X  \n",
       "3                     796  G.I. Generation  \n",
       "4                     796          Boomers  \n",
       "...                   ...              ...  \n",
       "27815                2309     Generation X  \n",
       "27816                2309           Silent  \n",
       "27817                2309     Generation Z  \n",
       "27818                2309     Generation Z  \n",
       "27819                2309          Boomers  \n",
       "\n",
       "[27820 rows x 12 columns]>"
      ]
     },
     "execution_count": 5,
     "metadata": {},
     "output_type": "execute_result"
    }
   ],
   "source": [
    "suicide_data.info"
   ]
  },
  {
   "cell_type": "code",
   "execution_count": 39,
   "id": "c91c0580",
   "metadata": {},
   "outputs": [
    {
     "data": {
      "text/html": [
       "<div>\n",
       "<style scoped>\n",
       "    .dataframe tbody tr th:only-of-type {\n",
       "        vertical-align: middle;\n",
       "    }\n",
       "\n",
       "    .dataframe tbody tr th {\n",
       "        vertical-align: top;\n",
       "    }\n",
       "\n",
       "    .dataframe thead th {\n",
       "        text-align: right;\n",
       "    }\n",
       "</style>\n",
       "<table border=\"1\" class=\"dataframe\">\n",
       "  <thead>\n",
       "    <tr style=\"text-align: right;\">\n",
       "      <th></th>\n",
       "      <th>year</th>\n",
       "      <th>suicides_no</th>\n",
       "      <th>population</th>\n",
       "      <th>suicides/100k pop</th>\n",
       "      <th>HDI for year</th>\n",
       "      <th>gdp_per_capita ($)</th>\n",
       "    </tr>\n",
       "  </thead>\n",
       "  <tbody>\n",
       "    <tr>\n",
       "      <th>count</th>\n",
       "      <td>23539.000000</td>\n",
       "      <td>23539.000000</td>\n",
       "      <td>2.353900e+04</td>\n",
       "      <td>23539.000000</td>\n",
       "      <td>7207.000000</td>\n",
       "      <td>23539.000000</td>\n",
       "    </tr>\n",
       "    <tr>\n",
       "      <th>mean</th>\n",
       "      <td>2001.290157</td>\n",
       "      <td>286.691023</td>\n",
       "      <td>2.161400e+06</td>\n",
       "      <td>15.146940</td>\n",
       "      <td>0.778965</td>\n",
       "      <td>17229.711712</td>\n",
       "    </tr>\n",
       "    <tr>\n",
       "      <th>std</th>\n",
       "      <td>8.456363</td>\n",
       "      <td>974.183210</td>\n",
       "      <td>4.171983e+06</td>\n",
       "      <td>19.738891</td>\n",
       "      <td>0.096353</td>\n",
       "      <td>19107.377741</td>\n",
       "    </tr>\n",
       "    <tr>\n",
       "      <th>min</th>\n",
       "      <td>1985.000000</td>\n",
       "      <td>1.000000</td>\n",
       "      <td>8.890000e+02</td>\n",
       "      <td>0.020000</td>\n",
       "      <td>0.483000</td>\n",
       "      <td>251.000000</td>\n",
       "    </tr>\n",
       "    <tr>\n",
       "      <th>25%</th>\n",
       "      <td>1995.000000</td>\n",
       "      <td>8.000000</td>\n",
       "      <td>2.387225e+05</td>\n",
       "      <td>2.780000</td>\n",
       "      <td>0.711000</td>\n",
       "      <td>3293.000000</td>\n",
       "    </tr>\n",
       "    <tr>\n",
       "      <th>50%</th>\n",
       "      <td>2002.000000</td>\n",
       "      <td>42.000000</td>\n",
       "      <td>5.884300e+05</td>\n",
       "      <td>8.260000</td>\n",
       "      <td>0.782000</td>\n",
       "      <td>9667.000000</td>\n",
       "    </tr>\n",
       "    <tr>\n",
       "      <th>75%</th>\n",
       "      <td>2009.000000</td>\n",
       "      <td>175.000000</td>\n",
       "      <td>2.107592e+06</td>\n",
       "      <td>19.560000</td>\n",
       "      <td>0.864000</td>\n",
       "      <td>25735.000000</td>\n",
       "    </tr>\n",
       "    <tr>\n",
       "      <th>max</th>\n",
       "      <td>2016.000000</td>\n",
       "      <td>22338.000000</td>\n",
       "      <td>4.380521e+07</td>\n",
       "      <td>224.970000</td>\n",
       "      <td>0.944000</td>\n",
       "      <td>126352.000000</td>\n",
       "    </tr>\n",
       "  </tbody>\n",
       "</table>\n",
       "</div>"
      ],
      "text/plain": [
       "               year   suicides_no    population  suicides/100k pop  \\\n",
       "count  23539.000000  23539.000000  2.353900e+04       23539.000000   \n",
       "mean    2001.290157    286.691023  2.161400e+06          15.146940   \n",
       "std        8.456363    974.183210  4.171983e+06          19.738891   \n",
       "min     1985.000000      1.000000  8.890000e+02           0.020000   \n",
       "25%     1995.000000      8.000000  2.387225e+05           2.780000   \n",
       "50%     2002.000000     42.000000  5.884300e+05           8.260000   \n",
       "75%     2009.000000    175.000000  2.107592e+06          19.560000   \n",
       "max     2016.000000  22338.000000  4.380521e+07         224.970000   \n",
       "\n",
       "       HDI for year  gdp_per_capita ($)  \n",
       "count   7207.000000        23539.000000  \n",
       "mean       0.778965        17229.711712  \n",
       "std        0.096353        19107.377741  \n",
       "min        0.483000          251.000000  \n",
       "25%        0.711000         3293.000000  \n",
       "50%        0.782000         9667.000000  \n",
       "75%        0.864000        25735.000000  \n",
       "max        0.944000       126352.000000  "
      ]
     },
     "execution_count": 39,
     "metadata": {},
     "output_type": "execute_result"
    }
   ],
   "source": [
    "suicide_data.describe()"
   ]
  },
  {
   "cell_type": "code",
   "execution_count": 6,
   "id": "c40e8af8",
   "metadata": {},
   "outputs": [
    {
     "data": {
      "text/html": [
       "<div>\n",
       "<style scoped>\n",
       "    .dataframe tbody tr th:only-of-type {\n",
       "        vertical-align: middle;\n",
       "    }\n",
       "\n",
       "    .dataframe tbody tr th {\n",
       "        vertical-align: top;\n",
       "    }\n",
       "\n",
       "    .dataframe thead th {\n",
       "        text-align: right;\n",
       "    }\n",
       "</style>\n",
       "<table border=\"1\" class=\"dataframe\">\n",
       "  <thead>\n",
       "    <tr style=\"text-align: right;\">\n",
       "      <th></th>\n",
       "      <th>country</th>\n",
       "      <th>year</th>\n",
       "      <th>sex</th>\n",
       "      <th>age</th>\n",
       "      <th>suicides_no</th>\n",
       "      <th>population</th>\n",
       "      <th>suicides/100k pop</th>\n",
       "      <th>country-year</th>\n",
       "      <th>HDI for year</th>\n",
       "      <th>gdp_for_year ($)</th>\n",
       "      <th>gdp_per_capita ($)</th>\n",
       "      <th>generation</th>\n",
       "    </tr>\n",
       "  </thead>\n",
       "  <tbody>\n",
       "    <tr>\n",
       "      <th>0</th>\n",
       "      <td>False</td>\n",
       "      <td>False</td>\n",
       "      <td>False</td>\n",
       "      <td>False</td>\n",
       "      <td>False</td>\n",
       "      <td>False</td>\n",
       "      <td>False</td>\n",
       "      <td>False</td>\n",
       "      <td>True</td>\n",
       "      <td>False</td>\n",
       "      <td>False</td>\n",
       "      <td>False</td>\n",
       "    </tr>\n",
       "    <tr>\n",
       "      <th>1</th>\n",
       "      <td>False</td>\n",
       "      <td>False</td>\n",
       "      <td>False</td>\n",
       "      <td>False</td>\n",
       "      <td>False</td>\n",
       "      <td>False</td>\n",
       "      <td>False</td>\n",
       "      <td>False</td>\n",
       "      <td>True</td>\n",
       "      <td>False</td>\n",
       "      <td>False</td>\n",
       "      <td>False</td>\n",
       "    </tr>\n",
       "    <tr>\n",
       "      <th>2</th>\n",
       "      <td>False</td>\n",
       "      <td>False</td>\n",
       "      <td>False</td>\n",
       "      <td>False</td>\n",
       "      <td>False</td>\n",
       "      <td>False</td>\n",
       "      <td>False</td>\n",
       "      <td>False</td>\n",
       "      <td>True</td>\n",
       "      <td>False</td>\n",
       "      <td>False</td>\n",
       "      <td>False</td>\n",
       "    </tr>\n",
       "    <tr>\n",
       "      <th>3</th>\n",
       "      <td>False</td>\n",
       "      <td>False</td>\n",
       "      <td>False</td>\n",
       "      <td>False</td>\n",
       "      <td>False</td>\n",
       "      <td>False</td>\n",
       "      <td>False</td>\n",
       "      <td>False</td>\n",
       "      <td>True</td>\n",
       "      <td>False</td>\n",
       "      <td>False</td>\n",
       "      <td>False</td>\n",
       "    </tr>\n",
       "    <tr>\n",
       "      <th>4</th>\n",
       "      <td>False</td>\n",
       "      <td>False</td>\n",
       "      <td>False</td>\n",
       "      <td>False</td>\n",
       "      <td>False</td>\n",
       "      <td>False</td>\n",
       "      <td>False</td>\n",
       "      <td>False</td>\n",
       "      <td>True</td>\n",
       "      <td>False</td>\n",
       "      <td>False</td>\n",
       "      <td>False</td>\n",
       "    </tr>\n",
       "    <tr>\n",
       "      <th>...</th>\n",
       "      <td>...</td>\n",
       "      <td>...</td>\n",
       "      <td>...</td>\n",
       "      <td>...</td>\n",
       "      <td>...</td>\n",
       "      <td>...</td>\n",
       "      <td>...</td>\n",
       "      <td>...</td>\n",
       "      <td>...</td>\n",
       "      <td>...</td>\n",
       "      <td>...</td>\n",
       "      <td>...</td>\n",
       "    </tr>\n",
       "    <tr>\n",
       "      <th>27815</th>\n",
       "      <td>False</td>\n",
       "      <td>False</td>\n",
       "      <td>False</td>\n",
       "      <td>False</td>\n",
       "      <td>False</td>\n",
       "      <td>False</td>\n",
       "      <td>False</td>\n",
       "      <td>False</td>\n",
       "      <td>False</td>\n",
       "      <td>False</td>\n",
       "      <td>False</td>\n",
       "      <td>False</td>\n",
       "    </tr>\n",
       "    <tr>\n",
       "      <th>27816</th>\n",
       "      <td>False</td>\n",
       "      <td>False</td>\n",
       "      <td>False</td>\n",
       "      <td>False</td>\n",
       "      <td>False</td>\n",
       "      <td>False</td>\n",
       "      <td>False</td>\n",
       "      <td>False</td>\n",
       "      <td>False</td>\n",
       "      <td>False</td>\n",
       "      <td>False</td>\n",
       "      <td>False</td>\n",
       "    </tr>\n",
       "    <tr>\n",
       "      <th>27817</th>\n",
       "      <td>False</td>\n",
       "      <td>False</td>\n",
       "      <td>False</td>\n",
       "      <td>False</td>\n",
       "      <td>False</td>\n",
       "      <td>False</td>\n",
       "      <td>False</td>\n",
       "      <td>False</td>\n",
       "      <td>False</td>\n",
       "      <td>False</td>\n",
       "      <td>False</td>\n",
       "      <td>False</td>\n",
       "    </tr>\n",
       "    <tr>\n",
       "      <th>27818</th>\n",
       "      <td>False</td>\n",
       "      <td>False</td>\n",
       "      <td>False</td>\n",
       "      <td>False</td>\n",
       "      <td>False</td>\n",
       "      <td>False</td>\n",
       "      <td>False</td>\n",
       "      <td>False</td>\n",
       "      <td>False</td>\n",
       "      <td>False</td>\n",
       "      <td>False</td>\n",
       "      <td>False</td>\n",
       "    </tr>\n",
       "    <tr>\n",
       "      <th>27819</th>\n",
       "      <td>False</td>\n",
       "      <td>False</td>\n",
       "      <td>False</td>\n",
       "      <td>False</td>\n",
       "      <td>False</td>\n",
       "      <td>False</td>\n",
       "      <td>False</td>\n",
       "      <td>False</td>\n",
       "      <td>False</td>\n",
       "      <td>False</td>\n",
       "      <td>False</td>\n",
       "      <td>False</td>\n",
       "    </tr>\n",
       "  </tbody>\n",
       "</table>\n",
       "<p>27820 rows × 12 columns</p>\n",
       "</div>"
      ],
      "text/plain": [
       "       country   year    sex    age  suicides_no  population  \\\n",
       "0        False  False  False  False        False       False   \n",
       "1        False  False  False  False        False       False   \n",
       "2        False  False  False  False        False       False   \n",
       "3        False  False  False  False        False       False   \n",
       "4        False  False  False  False        False       False   \n",
       "...        ...    ...    ...    ...          ...         ...   \n",
       "27815    False  False  False  False        False       False   \n",
       "27816    False  False  False  False        False       False   \n",
       "27817    False  False  False  False        False       False   \n",
       "27818    False  False  False  False        False       False   \n",
       "27819    False  False  False  False        False       False   \n",
       "\n",
       "       suicides/100k pop  country-year  HDI for year   gdp_for_year ($)   \\\n",
       "0                  False         False          True               False   \n",
       "1                  False         False          True               False   \n",
       "2                  False         False          True               False   \n",
       "3                  False         False          True               False   \n",
       "4                  False         False          True               False   \n",
       "...                  ...           ...           ...                 ...   \n",
       "27815              False         False         False               False   \n",
       "27816              False         False         False               False   \n",
       "27817              False         False         False               False   \n",
       "27818              False         False         False               False   \n",
       "27819              False         False         False               False   \n",
       "\n",
       "       gdp_per_capita ($)  generation  \n",
       "0                   False       False  \n",
       "1                   False       False  \n",
       "2                   False       False  \n",
       "3                   False       False  \n",
       "4                   False       False  \n",
       "...                   ...         ...  \n",
       "27815               False       False  \n",
       "27816               False       False  \n",
       "27817               False       False  \n",
       "27818               False       False  \n",
       "27819               False       False  \n",
       "\n",
       "[27820 rows x 12 columns]"
      ]
     },
     "execution_count": 6,
     "metadata": {},
     "output_type": "execute_result"
    }
   ],
   "source": [
    "suicide_data.isnull()"
   ]
  },
  {
   "cell_type": "code",
   "execution_count": 7,
   "id": "c227cb4b",
   "metadata": {},
   "outputs": [
    {
     "data": {
      "text/plain": [
       "Index(['country', 'year', 'sex', 'age', 'suicides_no', 'population',\n",
       "       'suicides/100k pop', 'country-year', 'HDI for year',\n",
       "       ' gdp_for_year ($) ', 'gdp_per_capita ($)', 'generation'],\n",
       "      dtype='object')"
      ]
     },
     "execution_count": 7,
     "metadata": {},
     "output_type": "execute_result"
    }
   ],
   "source": [
    "suicide_data.columns"
   ]
  },
  {
   "cell_type": "code",
   "execution_count": 8,
   "id": "f8ec79bc",
   "metadata": {},
   "outputs": [
    {
     "data": {
      "text/html": [
       "<div>\n",
       "<style scoped>\n",
       "    .dataframe tbody tr th:only-of-type {\n",
       "        vertical-align: middle;\n",
       "    }\n",
       "\n",
       "    .dataframe tbody tr th {\n",
       "        vertical-align: top;\n",
       "    }\n",
       "\n",
       "    .dataframe thead th {\n",
       "        text-align: right;\n",
       "    }\n",
       "</style>\n",
       "<table border=\"1\" class=\"dataframe\">\n",
       "  <thead>\n",
       "    <tr style=\"text-align: right;\">\n",
       "      <th></th>\n",
       "      <th>suicides_no</th>\n",
       "      <th>population</th>\n",
       "      <th>suicides/100k pop</th>\n",
       "      <th>HDI for year</th>\n",
       "      <th>gdp_per_capita ($)</th>\n",
       "    </tr>\n",
       "    <tr>\n",
       "      <th>country</th>\n",
       "      <th></th>\n",
       "      <th></th>\n",
       "      <th></th>\n",
       "      <th></th>\n",
       "      <th></th>\n",
       "    </tr>\n",
       "  </thead>\n",
       "  <tbody>\n",
       "    <tr>\n",
       "      <th>Albania</th>\n",
       "      <td>7.462121</td>\n",
       "      <td>2.360813e+05</td>\n",
       "      <td>3.502879</td>\n",
       "      <td>0.673000</td>\n",
       "      <td>1859.045455</td>\n",
       "    </tr>\n",
       "    <tr>\n",
       "      <th>Antigua and Barbuda</th>\n",
       "      <td>0.033951</td>\n",
       "      <td>6.142679e+03</td>\n",
       "      <td>0.552901</td>\n",
       "      <td>0.781667</td>\n",
       "      <td>10448.185185</td>\n",
       "    </tr>\n",
       "    <tr>\n",
       "      <th>Argentina</th>\n",
       "      <td>221.018817</td>\n",
       "      <td>2.784907e+06</td>\n",
       "      <td>10.469328</td>\n",
       "      <td>0.779600</td>\n",
       "      <td>7914.096774</td>\n",
       "    </tr>\n",
       "    <tr>\n",
       "      <th>Armenia</th>\n",
       "      <td>6.392617</td>\n",
       "      <td>2.595576e+05</td>\n",
       "      <td>3.275872</td>\n",
       "      <td>0.690125</td>\n",
       "      <td>1873.919463</td>\n",
       "    </tr>\n",
       "    <tr>\n",
       "      <th>Aruba</th>\n",
       "      <td>0.601190</td>\n",
       "      <td>7.498077e+03</td>\n",
       "      <td>9.503095</td>\n",
       "      <td>NaN</td>\n",
       "      <td>24221.642857</td>\n",
       "    </tr>\n",
       "  </tbody>\n",
       "</table>\n",
       "</div>"
      ],
      "text/plain": [
       "                     suicides_no    population  suicides/100k pop  \\\n",
       "country                                                             \n",
       "Albania                 7.462121  2.360813e+05           3.502879   \n",
       "Antigua and Barbuda     0.033951  6.142679e+03           0.552901   \n",
       "Argentina             221.018817  2.784907e+06          10.469328   \n",
       "Armenia                 6.392617  2.595576e+05           3.275872   \n",
       "Aruba                   0.601190  7.498077e+03           9.503095   \n",
       "\n",
       "                     HDI for year  gdp_per_capita ($)  \n",
       "country                                                \n",
       "Albania                  0.673000         1859.045455  \n",
       "Antigua and Barbuda      0.781667        10448.185185  \n",
       "Argentina                0.779600         7914.096774  \n",
       "Armenia                  0.690125         1873.919463  \n",
       "Aruba                         NaN        24221.642857  "
      ]
     },
     "execution_count": 8,
     "metadata": {},
     "output_type": "execute_result"
    }
   ],
   "source": [
    "'''grouping the data by country and drop the year column'''\n",
    "suicide_data.groupby(['country']).mean().drop(['year'], axis=1).head()                    "
   ]
  },
  {
   "cell_type": "markdown",
   "id": "781bcda7",
   "metadata": {},
   "source": [
    "# Data Cleaning"
   ]
  },
  {
   "cell_type": "code",
   "execution_count": 9,
   "id": "351deb3b",
   "metadata": {},
   "outputs": [
    {
     "data": {
      "text/html": [
       "<div>\n",
       "<style scoped>\n",
       "    .dataframe tbody tr th:only-of-type {\n",
       "        vertical-align: middle;\n",
       "    }\n",
       "\n",
       "    .dataframe tbody tr th {\n",
       "        vertical-align: top;\n",
       "    }\n",
       "\n",
       "    .dataframe thead th {\n",
       "        text-align: right;\n",
       "    }\n",
       "</style>\n",
       "<table border=\"1\" class=\"dataframe\">\n",
       "  <thead>\n",
       "    <tr style=\"text-align: right;\">\n",
       "      <th></th>\n",
       "      <th></th>\n",
       "      <th>suicides_no</th>\n",
       "      <th>population</th>\n",
       "      <th>suicides_per_100k_pop</th>\n",
       "      <th>HDI_for_year</th>\n",
       "      <th>gdp_per_capita</th>\n",
       "    </tr>\n",
       "    <tr>\n",
       "      <th>country</th>\n",
       "      <th>year</th>\n",
       "      <th></th>\n",
       "      <th></th>\n",
       "      <th></th>\n",
       "      <th></th>\n",
       "      <th></th>\n",
       "    </tr>\n",
       "  </thead>\n",
       "  <tbody>\n",
       "    <tr>\n",
       "      <th rowspan=\"3\" valign=\"top\">Albania</th>\n",
       "      <th>1995</th>\n",
       "      <td>88</td>\n",
       "      <td>2903400</td>\n",
       "      <td>3.030929</td>\n",
       "      <td>7.428</td>\n",
       "      <td>10020</td>\n",
       "    </tr>\n",
       "    <tr>\n",
       "      <th>2000</th>\n",
       "      <td>54</td>\n",
       "      <td>2796300</td>\n",
       "      <td>1.931123</td>\n",
       "      <td>7.872</td>\n",
       "      <td>15588</td>\n",
       "    </tr>\n",
       "    <tr>\n",
       "      <th>2010</th>\n",
       "      <td>96</td>\n",
       "      <td>2736025</td>\n",
       "      <td>3.508740</td>\n",
       "      <td>8.664</td>\n",
       "      <td>52308</td>\n",
       "    </tr>\n",
       "    <tr>\n",
       "      <th rowspan=\"2\" valign=\"top\">Argentina</th>\n",
       "      <th>1985</th>\n",
       "      <td>1988</td>\n",
       "      <td>27090800</td>\n",
       "      <td>7.338285</td>\n",
       "      <td>8.328</td>\n",
       "      <td>39168</td>\n",
       "    </tr>\n",
       "    <tr>\n",
       "      <th>1990</th>\n",
       "      <td>2140</td>\n",
       "      <td>29091100</td>\n",
       "      <td>7.356202</td>\n",
       "      <td>8.460</td>\n",
       "      <td>58308</td>\n",
       "    </tr>\n",
       "  </tbody>\n",
       "</table>\n",
       "</div>"
      ],
      "text/plain": [
       "                suicides_no  population  suicides_per_100k_pop  HDI_for_year  \\\n",
       "country   year                                                                 \n",
       "Albania   1995           88     2903400               3.030929         7.428   \n",
       "          2000           54     2796300               1.931123         7.872   \n",
       "          2010           96     2736025               3.508740         8.664   \n",
       "Argentina 1985         1988    27090800               7.338285         8.328   \n",
       "          1990         2140    29091100               7.356202         8.460   \n",
       "\n",
       "                gdp_per_capita  \n",
       "country   year                  \n",
       "Albania   1995           10020  \n",
       "          2000           15588  \n",
       "          2010           52308  \n",
       "Argentina 1985           39168  \n",
       "          1990           58308  "
      ]
     },
     "execution_count": 9,
     "metadata": {},
     "output_type": "execute_result"
    }
   ],
   "source": [
    "'''\n",
    "   1. country_data :to separate the data by country.  \n",
    "   2. Incomplete suicide rate data ,GDP, and HDI data have also been cleaned out\n",
    "'''\n",
    "country_data = suicide_data.groupby(['country', 'year']).sum()\n",
    "country_data['suicides/100k pop'] = country_data.apply(lambda row: row.suicides_no * 1.0 / row.population * 100000, axis=1)\n",
    "\n",
    "\n",
    "country_data = country_data.rename(index=str, columns={\"HDI for year\": \"HDI_for_year\", \"gdp_per_capita ($)\": \"gdp_per_capita\", \"suicides/100k pop\":\"suicides_per_100k_pop\"})\n",
    "country_data= country_data[country_data['suicides_per_100k_pop'] != 0]\n",
    "country_data = country_data[country_data['HDI_for_year'] != 0]\n",
    "country_data = country_data[country_data['gdp_per_capita'] != 0]\n",
    "\n",
    "country_data.head()"
   ]
  },
  {
   "cell_type": "code",
   "execution_count": 10,
   "id": "0f79ddb0",
   "metadata": {},
   "outputs": [
    {
     "data": {
      "text/plain": [
       "'We will retrieve data from United States and Uzbekistan for relationship between GDP and suicide rate and relationship between HDI and suicide rate as USA is a representative of first world country and Uzbekistan as a representative of a thirld world country'"
      ]
     },
     "execution_count": 10,
     "metadata": {},
     "output_type": "execute_result"
    }
   ],
   "source": [
    "'''We will retrieve data from United States and Uzbekistan for relationship between GDP and suicide rate and relationship between HDI and suicide rate as USA is a representative of first world country and Uzbekistan as a representative of a thirld world country'''"
   ]
  },
  {
   "cell_type": "code",
   "execution_count": 11,
   "id": "61930997",
   "metadata": {},
   "outputs": [
    {
     "data": {
      "text/html": [
       "<div>\n",
       "<style scoped>\n",
       "    .dataframe tbody tr th:only-of-type {\n",
       "        vertical-align: middle;\n",
       "    }\n",
       "\n",
       "    .dataframe tbody tr th {\n",
       "        vertical-align: top;\n",
       "    }\n",
       "\n",
       "    .dataframe thead th {\n",
       "        text-align: right;\n",
       "    }\n",
       "</style>\n",
       "<table border=\"1\" class=\"dataframe\">\n",
       "  <thead>\n",
       "    <tr style=\"text-align: right;\">\n",
       "      <th></th>\n",
       "      <th>suicides_no</th>\n",
       "      <th>population</th>\n",
       "      <th>suicides_per_100k_pop</th>\n",
       "      <th>HDI_for_year</th>\n",
       "      <th>gdp_per_capita</th>\n",
       "    </tr>\n",
       "    <tr>\n",
       "      <th>year</th>\n",
       "      <th></th>\n",
       "      <th></th>\n",
       "      <th></th>\n",
       "      <th></th>\n",
       "      <th></th>\n",
       "    </tr>\n",
       "  </thead>\n",
       "  <tbody>\n",
       "    <tr>\n",
       "      <th>1985</th>\n",
       "      <td>29446</td>\n",
       "      <td>220723000</td>\n",
       "      <td>13.340703</td>\n",
       "      <td>10.092</td>\n",
       "      <td>236316</td>\n",
       "    </tr>\n",
       "    <tr>\n",
       "      <th>1990</th>\n",
       "      <td>30895</td>\n",
       "      <td>229952200</td>\n",
       "      <td>13.435401</td>\n",
       "      <td>10.308</td>\n",
       "      <td>312048</td>\n",
       "    </tr>\n",
       "    <tr>\n",
       "      <th>1995</th>\n",
       "      <td>31272</td>\n",
       "      <td>243164200</td>\n",
       "      <td>12.860446</td>\n",
       "      <td>10.512</td>\n",
       "      <td>378216</td>\n",
       "    </tr>\n",
       "    <tr>\n",
       "      <th>2000</th>\n",
       "      <td>29343</td>\n",
       "      <td>262246108</td>\n",
       "      <td>11.189108</td>\n",
       "      <td>10.596</td>\n",
       "      <td>470616</td>\n",
       "    </tr>\n",
       "    <tr>\n",
       "      <th>2005</th>\n",
       "      <td>32629</td>\n",
       "      <td>276106680</td>\n",
       "      <td>11.817534</td>\n",
       "      <td>10.764</td>\n",
       "      <td>569076</td>\n",
       "    </tr>\n",
       "  </tbody>\n",
       "</table>\n",
       "</div>"
      ],
      "text/plain": [
       "      suicides_no  population  suicides_per_100k_pop  HDI_for_year  \\\n",
       "year                                                                 \n",
       "1985        29446   220723000              13.340703        10.092   \n",
       "1990        30895   229952200              13.435401        10.308   \n",
       "1995        31272   243164200              12.860446        10.512   \n",
       "2000        29343   262246108              11.189108        10.596   \n",
       "2005        32629   276106680              11.817534        10.764   \n",
       "\n",
       "      gdp_per_capita  \n",
       "year                  \n",
       "1985          236316  \n",
       "1990          312048  \n",
       "1995          378216  \n",
       "2000          470616  \n",
       "2005          569076  "
      ]
     },
     "execution_count": 11,
     "metadata": {},
     "output_type": "execute_result"
    }
   ],
   "source": [
    "'''\n",
    "    Retrieve data from only United states\n",
    "'''\n",
    "united_data = country_data.loc['United States']\n",
    "united_data.head()"
   ]
  },
  {
   "cell_type": "code",
   "execution_count": 12,
   "id": "5564e59b",
   "metadata": {},
   "outputs": [
    {
     "data": {
      "text/html": [
       "<div>\n",
       "<style scoped>\n",
       "    .dataframe tbody tr th:only-of-type {\n",
       "        vertical-align: middle;\n",
       "    }\n",
       "\n",
       "    .dataframe tbody tr th {\n",
       "        vertical-align: top;\n",
       "    }\n",
       "\n",
       "    .dataframe thead th {\n",
       "        text-align: right;\n",
       "    }\n",
       "</style>\n",
       "<table border=\"1\" class=\"dataframe\">\n",
       "  <thead>\n",
       "    <tr style=\"text-align: right;\">\n",
       "      <th></th>\n",
       "      <th>suicides_no</th>\n",
       "      <th>population</th>\n",
       "      <th>suicides_per_100k_pop</th>\n",
       "      <th>HDI_for_year</th>\n",
       "      <th>gdp_per_capita</th>\n",
       "    </tr>\n",
       "    <tr>\n",
       "      <th>year</th>\n",
       "      <th></th>\n",
       "      <th></th>\n",
       "      <th></th>\n",
       "      <th></th>\n",
       "      <th></th>\n",
       "    </tr>\n",
       "  </thead>\n",
       "  <tbody>\n",
       "    <tr>\n",
       "      <th>2000</th>\n",
       "      <td>1919</td>\n",
       "      <td>21789067</td>\n",
       "      <td>8.807169</td>\n",
       "      <td>7.128</td>\n",
       "      <td>7584</td>\n",
       "    </tr>\n",
       "    <tr>\n",
       "      <th>2005</th>\n",
       "      <td>1221</td>\n",
       "      <td>23600347</td>\n",
       "      <td>5.173653</td>\n",
       "      <td>7.500</td>\n",
       "      <td>7272</td>\n",
       "    </tr>\n",
       "    <tr>\n",
       "      <th>2010</th>\n",
       "      <td>1464</td>\n",
       "      <td>25651783</td>\n",
       "      <td>5.707206</td>\n",
       "      <td>7.860</td>\n",
       "      <td>18396</td>\n",
       "    </tr>\n",
       "    <tr>\n",
       "      <th>2011</th>\n",
       "      <td>1640</td>\n",
       "      <td>25978049</td>\n",
       "      <td>6.313022</td>\n",
       "      <td>7.932</td>\n",
       "      <td>21204</td>\n",
       "    </tr>\n",
       "    <tr>\n",
       "      <th>2012</th>\n",
       "      <td>1835</td>\n",
       "      <td>26381830</td>\n",
       "      <td>6.955545</td>\n",
       "      <td>8.016</td>\n",
       "      <td>23568</td>\n",
       "    </tr>\n",
       "  </tbody>\n",
       "</table>\n",
       "</div>"
      ],
      "text/plain": [
       "      suicides_no  population  suicides_per_100k_pop  HDI_for_year  \\\n",
       "year                                                                 \n",
       "2000         1919    21789067               8.807169         7.128   \n",
       "2005         1221    23600347               5.173653         7.500   \n",
       "2010         1464    25651783               5.707206         7.860   \n",
       "2011         1640    25978049               6.313022         7.932   \n",
       "2012         1835    26381830               6.955545         8.016   \n",
       "\n",
       "      gdp_per_capita  \n",
       "year                  \n",
       "2000            7584  \n",
       "2005            7272  \n",
       "2010           18396  \n",
       "2011           21204  \n",
       "2012           23568  "
      ]
     },
     "execution_count": 12,
     "metadata": {},
     "output_type": "execute_result"
    }
   ],
   "source": [
    "'''\n",
    "    Retrieve data from only Uzbekistan\n",
    "'''\n",
    "uzb_data = country_data.loc['Uzbekistan']\n",
    "uzb_data.head()"
   ]
  },
  {
   "cell_type": "code",
   "execution_count": null,
   "id": "d0a0e4f6",
   "metadata": {},
   "outputs": [],
   "source": []
  },
  {
   "cell_type": "markdown",
   "id": "080ce8b2",
   "metadata": {},
   "source": [
    "# Data analysis and visualization"
   ]
  },
  {
   "cell_type": "code",
   "execution_count": 13,
   "id": "ee166a0d",
   "metadata": {},
   "outputs": [
    {
     "data": {
      "text/plain": [
       "Text(0, 0.5, 'suicides / 100k group')"
      ]
     },
     "execution_count": 13,
     "metadata": {},
     "output_type": "execute_result"
    },
    {
     "data": {
      "image/png": "[encoded data removed]",
      "text/plain": [
       "<Figure size 432x288 with 1 Axes>"
      ]
     },
     "metadata": {
      "needs_background": "light"
     },
     "output_type": "display_data"
    }
   ],
   "source": [
    "'''\n",
    "    AGE V/S SUICIDE RATE\n",
    "'''\n",
    "age_data = suicide_data.groupby('age').sum()\n",
    "age_data = age_data.drop(columns=['year', 'HDI for year', 'gdp_per_capita ($)'])\n",
    "age_data[\"suicides/100k pop\"] = age_data.apply(lambda row: row.suicides_no * 1.0 /  row.population * 100000, axis=1)\n",
    "age_data['age'] = age_data.index\n",
    "age_data = age_data.reindex(['5-14 years', '15-24 years','25-34 years','35-54 years','55-74 years','75+ years'])\n",
    "age_data.plot.bar(x='age', y='suicides/100k pop')\n",
    "plt.title(\"Age vs. suicide rate\")\n",
    "plt.xlabel(\"age\")\n",
    "plt.ylabel(\"suicides / 100k group\")"
   ]
  },
  {
   "cell_type": "code",
   "execution_count": 14,
   "id": "43746c09",
   "metadata": {},
   "outputs": [
    {
     "data": {
      "text/plain": [
       "'We can see above that people in 75+ year age group are more inclined to commit suicide , infact we can see the older the people get more inclined they are towards committing suicide'"
      ]
     },
     "execution_count": 14,
     "metadata": {},
     "output_type": "execute_result"
    }
   ],
   "source": [
    "'''We can see above that people in 75+ year age group are more inclined to commit suicide , infact we can see the older the people get more inclined they are towards committing suicide'''"
   ]
  },
  {
   "cell_type": "code",
   "execution_count": 15,
   "id": "21a2393e",
   "metadata": {},
   "outputs": [
    {
     "data": {
      "text/plain": [
       "Text(0, 0.5, 'suicides / 100k group')"
      ]
     },
     "execution_count": 15,
     "metadata": {},
     "output_type": "execute_result"
    },
    {
     "data": {
      "image/png": "[encoded data removed]",
      "text/plain": [
       "<Figure size 432x288 with 1 Axes>"
      ]
     },
     "metadata": {
      "needs_background": "light"
     },
     "output_type": "display_data"
    }
   ],
   "source": [
    "'''\n",
    "GENDER V/S SUICIDE RATE\n",
    "\n",
    "'''\n",
    "gender_data = suicide_data.groupby('sex').sum()\n",
    "gender_data =gender_data.drop(columns=['year', 'HDI for year', 'gdp_per_capita ($)'])\n",
    "gender_data[\"suicides/100k pop\"] =gender_data.apply(lambda row: row.suicides_no * 1.0 / \\\n",
    "                                               row.population * 100000, axis=1)\n",
    "gender_data['sex'] = gender_data.index\n",
    "gender_data.plot.bar(x='sex', y='suicides/100k pop')\n",
    "plt.title(\"Gender vs. suicide rate\")\n",
    "plt.xlabel(\"gender\")\n",
    "plt.ylabel(\"suicides / 100k group\")"
   ]
  },
  {
   "cell_type": "code",
   "execution_count": 16,
   "id": "1e781d12",
   "metadata": {},
   "outputs": [
    {
     "data": {
      "text/plain": [
       "'We can see above that male gender is inclined towards committing suicide more than female gender'"
      ]
     },
     "execution_count": 16,
     "metadata": {},
     "output_type": "execute_result"
    }
   ],
   "source": [
    "'''We can see above that male gender is inclined towards committing suicide more than female gender'''"
   ]
  },
  {
   "cell_type": "code",
   "execution_count": 17,
   "id": "1a2aef29",
   "metadata": {},
   "outputs": [
    {
     "name": "stdout",
     "output_type": "stream",
     "text": [
      "Country Which Has Highest suicides_no :  Russian Federation\n",
      "Country Which Has Lowest suicides_no  :  Albania\n"
     ]
    },
    {
     "data": {
      "text/html": [
       "<div>\n",
       "<style scoped>\n",
       "    .dataframe tbody tr th:only-of-type {\n",
       "        vertical-align: middle;\n",
       "    }\n",
       "\n",
       "    .dataframe tbody tr th {\n",
       "        vertical-align: top;\n",
       "    }\n",
       "\n",
       "    .dataframe thead th {\n",
       "        text-align: right;\n",
       "    }\n",
       "</style>\n",
       "<table border=\"1\" class=\"dataframe\">\n",
       "  <thead>\n",
       "    <tr style=\"text-align: right;\">\n",
       "      <th></th>\n",
       "      <th>9</th>\n",
       "      <th>20996</th>\n",
       "    </tr>\n",
       "  </thead>\n",
       "  <tbody>\n",
       "    <tr>\n",
       "      <th>country</th>\n",
       "      <td>Albania</td>\n",
       "      <td>Russian Federation</td>\n",
       "    </tr>\n",
       "    <tr>\n",
       "      <th>year</th>\n",
       "      <td>1987</td>\n",
       "      <td>1994</td>\n",
       "    </tr>\n",
       "    <tr>\n",
       "      <th>sex</th>\n",
       "      <td>female</td>\n",
       "      <td>male</td>\n",
       "    </tr>\n",
       "    <tr>\n",
       "      <th>age</th>\n",
       "      <td>5-14 years</td>\n",
       "      <td>35-54 years</td>\n",
       "    </tr>\n",
       "    <tr>\n",
       "      <th>suicides_no</th>\n",
       "      <td>0</td>\n",
       "      <td>22338</td>\n",
       "    </tr>\n",
       "    <tr>\n",
       "      <th>population</th>\n",
       "      <td>311000</td>\n",
       "      <td>19044200</td>\n",
       "    </tr>\n",
       "    <tr>\n",
       "      <th>suicides/100k pop</th>\n",
       "      <td>0.0</td>\n",
       "      <td>117.3</td>\n",
       "    </tr>\n",
       "    <tr>\n",
       "      <th>country-year</th>\n",
       "      <td>Albania1987</td>\n",
       "      <td>Russian Federation1994</td>\n",
       "    </tr>\n",
       "    <tr>\n",
       "      <th>HDI for year</th>\n",
       "      <td>NaN</td>\n",
       "      <td>NaN</td>\n",
       "    </tr>\n",
       "    <tr>\n",
       "      <th>gdp_for_year ($)</th>\n",
       "      <td>2,156,624,900</td>\n",
       "      <td>395,077,301,248</td>\n",
       "    </tr>\n",
       "    <tr>\n",
       "      <th>gdp_per_capita ($)</th>\n",
       "      <td>796</td>\n",
       "      <td>2853</td>\n",
       "    </tr>\n",
       "    <tr>\n",
       "      <th>generation</th>\n",
       "      <td>Generation X</td>\n",
       "      <td>Boomers</td>\n",
       "    </tr>\n",
       "  </tbody>\n",
       "</table>\n",
       "</div>"
      ],
      "text/plain": [
       "                            9                       20996\n",
       "country                   Albania      Russian Federation\n",
       "year                         1987                    1994\n",
       "sex                        female                    male\n",
       "age                    5-14 years             35-54 years\n",
       "suicides_no                     0                   22338\n",
       "population                 311000                19044200\n",
       "suicides/100k pop             0.0                   117.3\n",
       "country-year          Albania1987  Russian Federation1994\n",
       "HDI for year                  NaN                     NaN\n",
       " gdp_for_year ($)   2,156,624,900         395,077,301,248\n",
       "gdp_per_capita ($)            796                    2853\n",
       "generation           Generation X                 Boomers"
      ]
     },
     "execution_count": 17,
     "metadata": {},
     "output_type": "execute_result"
    }
   ],
   "source": [
    "'''Country with most and least number of sucides'''\n",
    "def find_minmax(x):\n",
    "     #use the function 'idmin' to find the index of lowest suicide\n",
    "    min_index = suicide_data[x].idxmin()\n",
    "    #use the function 'idmax' to find the index of Highest suicide\n",
    "    high_index = suicide_data[x].idxmax()\n",
    "    \n",
    "    high = pd.DataFrame(suicide_data.loc[high_index,:])\n",
    "    low = pd.DataFrame(suicide_data.loc[min_index,:])\n",
    "    \n",
    "    #print the country with high and low suicide\n",
    "    print(\"Country Which Has Highest \"+ x + \" : \",suicide_data['country'][high_index])\n",
    "    print(\"Country Which Has Lowest \"+ x + \"  : \",suicide_data['country'][min_index])\n",
    "    return pd.concat([low,high],axis = 1)\n",
    "\n",
    "find_minmax('suicides_no')"
   ]
  },
  {
   "cell_type": "code",
   "execution_count": 18,
   "id": "9e65e10e",
   "metadata": {},
   "outputs": [
    {
     "data": {
      "text/plain": [
       "'We can see above that Russian federation has most number of suicides and Albania has least number of suicides'"
      ]
     },
     "execution_count": 18,
     "metadata": {},
     "output_type": "execute_result"
    }
   ],
   "source": [
    "'''We can see above that Russian federation has most number of suicides and Albania has least number of suicides'''"
   ]
  },
  {
   "cell_type": "code",
   "execution_count": null,
   "id": "2c9354e2",
   "metadata": {},
   "outputs": [],
   "source": [
    "\n"
   ]
  },
  {
   "cell_type": "code",
   "execution_count": 19,
   "id": "cd2ab167",
   "metadata": {},
   "outputs": [
    {
     "data": {
      "text/plain": [
       "<matplotlib.legend.Legend at 0x139d5c26668>"
      ]
     },
     "execution_count": 19,
     "metadata": {},
     "output_type": "execute_result"
    },
    {
     "data": {
      "image/png": "[encoded data removed]",
      "text/plain": [
       "<Figure size 432x288 with 1 Axes>"
      ]
     },
     "metadata": {
      "needs_background": "light"
     },
     "output_type": "display_data"
    }
   ],
   "source": [
    "'''\n",
    "    US line graph between GDP per capita vs suicide rate over years\n",
    "'''\n",
    "\n",
    "xs = united_data.index.astype(int)\n",
    "ys = np.log(united_data['gdp_per_capita'])\n",
    "zs = (united_data['suicides_per_100k_pop'])\n",
    "plt.title(\"US GDP per capita vs. suicide rate over time\")\n",
    "plt.xlabel(\"year\")\n",
    "plt.plot(xs,ys, marker='o',color = 'black', label = 'GDP per capita')\n",
    "plt.plot(xs,zs, marker='o',color = 'red',label = 'suicide rate')\n",
    "plt.legend(loc='upper left')"
   ]
  },
  {
   "cell_type": "code",
   "execution_count": 20,
   "id": "f002e17c",
   "metadata": {},
   "outputs": [
    {
     "data": {
      "text/plain": [
       "<matplotlib.legend.Legend at 0x139d5ca5080>"
      ]
     },
     "execution_count": 20,
     "metadata": {},
     "output_type": "execute_result"
    },
    {
     "data": {
      "image/png": "[encoded data removed]",
      "text/plain": [
       "<Figure size 432x288 with 1 Axes>"
      ]
     },
     "metadata": {
      "needs_background": "light"
     },
     "output_type": "display_data"
    }
   ],
   "source": [
    "'''\n",
    "    US line graph between HDI vs suicide rate over years\n",
    "'''\n",
    "\n",
    "xs = united_data.index.astype(int)\n",
    "ys = united_data['HDI_for_year']\n",
    "zs = (united_data['suicides_per_100k_pop'])\n",
    "plt.title(\"US HDI vs. suicide rate over time\")\n",
    "plt.xlabel(\"year\")\n",
    "plt.plot(xs,ys, marker='o', label = 'HDI')\n",
    "plt.plot(xs,zs, marker='o',color = 'red',label = 'suicide rate')\n",
    "plt.legend(loc='upper left')"
   ]
  },
  {
   "cell_type": "code",
   "execution_count": 21,
   "id": "635aff7c",
   "metadata": {},
   "outputs": [
    {
     "data": {
      "text/plain": [
       "<matplotlib.legend.Legend at 0x139d5d1fac8>"
      ]
     },
     "execution_count": 21,
     "metadata": {},
     "output_type": "execute_result"
    },
    {
     "data": {
      "image/png": "[encoded data removed]",
      "text/plain": [
       "<Figure size 432x288 with 1 Axes>"
      ]
     },
     "metadata": {
      "needs_background": "light"
     },
     "output_type": "display_data"
    }
   ],
   "source": [
    "'''\n",
    "    Uzbekistan line graph between GDP per capita vs suicide rate over years\n",
    "'''\n",
    "\n",
    "xs = uzb_data.index.astype(int)\n",
    "ys = np.log(uzb_data['gdp_per_capita'])\n",
    "zs = (uzb_data['suicides_per_100k_pop'])\n",
    "plt.title(\"Uzbekistan GDP per capita vs. suicide rate over time\")\n",
    "plt.xlabel(\"year\")\n",
    "plt.plot(xs,ys, marker='o',color = 'brown',label = 'GDP per capita')\n",
    "plt.plot(xs,zs, marker='o',color = 'green',label = 'suicide rate')\n",
    "plt.legend(loc='upper right')"
   ]
  },
  {
   "cell_type": "code",
   "execution_count": 22,
   "id": "77e5cd37",
   "metadata": {},
   "outputs": [
    {
     "data": {
      "text/plain": [
       "<matplotlib.legend.Legend at 0x139d5f685f8>"
      ]
     },
     "execution_count": 22,
     "metadata": {},
     "output_type": "execute_result"
    },
    {
     "data": {
      "image/png": "[encoded data removed]",
      "text/plain": [
       "<Figure size 432x288 with 1 Axes>"
      ]
     },
     "metadata": {
      "needs_background": "light"
     },
     "output_type": "display_data"
    }
   ],
   "source": [
    "'''\n",
    "    Uzbekistan line graph between HDI vs suicide rate over years\n",
    "'''\n",
    "\n",
    "xs = uzb_data.index.astype(int)\n",
    "ys = uzb_data['HDI_for_year']\n",
    "zs = (uzb_data['suicides_per_100k_pop'])\n",
    "plt.title(\"Uzbekistan HDI per capita vs. suicide rate over time\")\n",
    "plt.xlabel(\"year\")\n",
    "\n",
    "plt.plot(xs,ys, marker='o',color = 'darkseagreen',label = 'HDI')\n",
    "plt.plot(xs,zs, marker='o',color = 'slategrey',label = 'suicide rate')\n",
    "plt.legend(loc='upper right')"
   ]
  },
  {
   "cell_type": "code",
   "execution_count": 23,
   "id": "d16a42fb",
   "metadata": {},
   "outputs": [
    {
     "name": "stdout",
     "output_type": "stream",
     "text": [
      "                              OLS Regression Results                             \n",
      "=================================================================================\n",
      "Dep. Variable:     suicides_per_100k_pop   R-squared:                       0.002\n",
      "Model:                               OLS   Adj. R-squared:                  0.000\n",
      "Method:                    Least Squares   F-statistic:                     1.331\n",
      "Date:                   Sat, 16 Jul 2022   Prob (F-statistic):              0.249\n",
      "Time:                           11:38:31   Log-Likelihood:                -2411.2\n",
      "No. Observations:                    684   AIC:                             4826.\n",
      "Df Residuals:                        682   BIC:                             4836.\n",
      "Df Model:                              1                                         \n",
      "Covariance Type:               nonrobust                                         \n",
      "==================================================================================\n",
      "                     coef    std err          t      P>|t|      [0.025      0.975]\n",
      "----------------------------------------------------------------------------------\n",
      "Intercept         11.1995      0.431     26.003      0.000      10.354      12.045\n",
      "gdp_per_capita   1.33e-06   1.15e-06      1.154      0.249   -9.33e-07    3.59e-06\n",
      "==============================================================================\n",
      "Omnibus:                      147.728   Durbin-Watson:                   0.393\n",
      "Prob(Omnibus):                  0.000   Jarque-Bera (JB):              290.809\n",
      "Skew:                           1.221   Prob(JB):                     7.11e-64\n",
      "Kurtosis:                       5.059   Cond. No.                     5.11e+05\n",
      "==============================================================================\n",
      "\n",
      "Notes:\n",
      "[1] Standard Errors assume that the covariance matrix of the errors is correctly specified.\n",
      "[2] The condition number is large, 5.11e+05. This might indicate that there are\n",
      "strong multicollinearity or other numerical problems.\n"
     ]
    }
   ],
   "source": [
    "'''\n",
    "    Linear Regression between suicide rate and gdp per capita\n",
    "'''\n",
    "outcome_gdp, predictor_gdp = patsy.dmatrices('suicides_per_100k_pop ~ gdp_per_capita'\\\n",
    "                                             , country_data)\n",
    "mod_gdp = sm.OLS(outcome_gdp, predictor_gdp)\n",
    "res_gdp = mod_gdp.fit()\n",
    "print(res_gdp.summary())"
   ]
  },
  {
   "cell_type": "code",
   "execution_count": 24,
   "id": "0538c81b",
   "metadata": {},
   "outputs": [
    {
     "data": {
      "text/plain": [
       "'Creating a prediction graph between suicide rate and gdp based on our linear regression'"
      ]
     },
     "execution_count": 24,
     "metadata": {},
     "output_type": "execute_result"
    }
   ],
   "source": [
    "'''Creating a prediction graph between suicide rate and gdp based on our linear regression'''"
   ]
  },
  {
   "cell_type": "code",
   "execution_count": 25,
   "id": "f2f484f7",
   "metadata": {},
   "outputs": [
    {
     "data": {
      "text/plain": [
       "[<matplotlib.lines.Line2D at 0x139d66c1d68>]"
      ]
     },
     "execution_count": 25,
     "metadata": {},
     "output_type": "execute_result"
    },
    {
     "data": {
      "image/png": "[encoded data removed]",
      "text/plain": [
       "<Figure size 432x288 with 1 Axes>"
      ]
     },
     "metadata": {
      "needs_background": "light"
     },
     "output_type": "display_data"
    }
   ],
   "source": [
    "plt.scatter(country_data['gdp_per_capita'], country_data['suicides_per_100k_pop'], \\\n",
    "            alpha=0.3, label='Data')\n",
    "plt.title('Suicide rate vs GDP')\n",
    "plt.ylabel('Suicide number per 100k population')\n",
    "plt.xlabel('GDP per Capita')\n",
    "xs = np.arange(country_data['gdp_per_capita'].min(), country_data['gdp_per_capita'].max() \\\n",
    "               + 1000000)\n",
    "ys = 1.33e-06 * xs + 11.1995\n",
    "plt.plot(xs, ys, '--k', linewidth=3)"
   ]
  },
  {
   "cell_type": "code",
   "execution_count": 26,
   "id": "f8c32fab",
   "metadata": {},
   "outputs": [
    {
     "name": "stdout",
     "output_type": "stream",
     "text": [
      "                              OLS Regression Results                             \n",
      "=================================================================================\n",
      "Dep. Variable:     suicides_per_100k_pop   R-squared:                       0.046\n",
      "Model:                               OLS   Adj. R-squared:                  0.044\n",
      "Method:                    Least Squares   F-statistic:                     32.59\n",
      "Date:                   Sat, 16 Jul 2022   Prob (F-statistic):           1.70e-08\n",
      "Time:                           11:38:34   Log-Likelihood:                -2395.9\n",
      "No. Observations:                    684   AIC:                             4796.\n",
      "Df Residuals:                        682   BIC:                             4805.\n",
      "Df Model:                              1                                         \n",
      "Covariance Type:               nonrobust                                         \n",
      "================================================================================\n",
      "                   coef    std err          t      P>|t|      [0.025      0.975]\n",
      "--------------------------------------------------------------------------------\n",
      "Intercept       -2.9990      2.565     -1.169      0.243      -8.036       2.038\n",
      "HDI_for_year     1.5589      0.273      5.709      0.000       1.023       2.095\n",
      "==============================================================================\n",
      "Omnibus:                      192.611   Durbin-Watson:                   0.418\n",
      "Prob(Omnibus):                  0.000   Jarque-Bera (JB):              481.227\n",
      "Skew:                           1.451   Prob(JB):                    3.18e-105\n",
      "Kurtosis:                       5.909   Cond. No.                         79.2\n",
      "==============================================================================\n",
      "\n",
      "Notes:\n",
      "[1] Standard Errors assume that the covariance matrix of the errors is correctly specified.\n"
     ]
    }
   ],
   "source": [
    "'''\n",
    "    Linear Regression between suicide rate and HDI\n",
    "'''\n",
    "\n",
    "outcome_hdi, predictor_hdi = patsy.dmatrices('suicides_per_100k_pop ~ HDI_for_year', \\\n",
    "                                             country_data)\n",
    "mod_hdi = sm.OLS(outcome_hdi, predictor_hdi)\n",
    "res_hdi = mod_hdi.fit()\n",
    "print(res_hdi.summary())"
   ]
  },
  {
   "cell_type": "code",
   "execution_count": 27,
   "id": "8ef312bc",
   "metadata": {},
   "outputs": [
    {
     "data": {
      "text/plain": [
       "'creating a prediction graph between suicide rate and hdi based on our linear regression'"
      ]
     },
     "execution_count": 27,
     "metadata": {},
     "output_type": "execute_result"
    }
   ],
   "source": [
    "'''creating a prediction graph between suicide rate and hdi based on our linear regression'''"
   ]
  },
  {
   "cell_type": "code",
   "execution_count": 28,
   "id": "dc5ebf10",
   "metadata": {},
   "outputs": [
    {
     "data": {
      "text/plain": [
       "[<matplotlib.lines.Line2D at 0x139d70e8fd0>]"
      ]
     },
     "execution_count": 28,
     "metadata": {},
     "output_type": "execute_result"
    },
    {
     "data": {
      "image/png": "[encoded data removed]",
      "text/plain": [
       "<Figure size 432x288 with 1 Axes>"
      ]
     },
     "metadata": {
      "needs_background": "light"
     },
     "output_type": "display_data"
    }
   ],
   "source": [
    "\n",
    "plt.scatter(country_data['HDI_for_year'], country_data['suicides_per_100k_pop'], \\\n",
    "            alpha=0.3, label='Data')\n",
    "plt.title('Suicide rate')\n",
    "plt.ylabel('Suicide number per 100k population')\n",
    "plt.xlabel('HDI')\n",
    "xs = np.arange(country_data['HDI_for_year'].min(), country_data['HDI_for_year'].max() + 3)\n",
    "ys = 1.5589 * xs - 2.9990\n",
    "plt.plot(xs, ys, '--k', linewidth=3)\n",
    "\n",
    "\n",
    "\n",
    "\n",
    "\n"
   ]
  },
  {
   "cell_type": "code",
   "execution_count": null,
   "id": "703c4efe",
   "metadata": {},
   "outputs": [],
   "source": []
  },
  {
   "cell_type": "markdown",
   "id": "6bfb298d",
   "metadata": {},
   "source": [
    "# Multiple regression model"
   ]
  },
  {
   "cell_type": "code",
   "execution_count": 37,
   "id": "104b7ade",
   "metadata": {},
   "outputs": [],
   "source": [
    "\n",
    "Xvar= country_data[['HDI_for_year','gdp_per_capita']]\n",
    "Yvar= country_data[['suicides_per_100k_pop']]"
   ]
  },
  {
   "cell_type": "code",
   "execution_count": 38,
   "id": "bb981494",
   "metadata": {},
   "outputs": [
    {
     "name": "stdout",
     "output_type": "stream",
     "text": [
      "                                  OLS Regression Results                                  \n",
      "==========================================================================================\n",
      "Dep. Variable:     suicides_per_100k_pop   R-squared (uncentered):                   0.681\n",
      "Model:                               OLS   Adj. R-squared (uncentered):              0.680\n",
      "Method:                    Least Squares   F-statistic:                              728.7\n",
      "Date:                   Sat, 16 Jul 2022   Prob (F-statistic):                   4.94e-170\n",
      "Time:                           11:57:48   Log-Likelihood:                         -2393.0\n",
      "No. Observations:                    684   AIC:                                      4790.\n",
      "Df Residuals:                        682   BIC:                                      4799.\n",
      "Df Model:                              2                                                  \n",
      "Covariance Type:               nonrobust                                                  \n",
      "==================================================================================\n",
      "                     coef    std err          t      P>|t|      [0.025      0.975]\n",
      "----------------------------------------------------------------------------------\n",
      "HDI_for_year       1.3407      0.049     27.398      0.000       1.245       1.437\n",
      "gdp_per_capita -3.331e-06   1.23e-06     -2.707      0.007   -5.75e-06   -9.15e-07\n",
      "==============================================================================\n",
      "Omnibus:                      167.965   Durbin-Watson:                   0.413\n",
      "Prob(Omnibus):                  0.000   Jarque-Bera (JB):              371.785\n",
      "Skew:                           1.319   Prob(JB):                     1.85e-81\n",
      "Kurtosis:                       5.466   Cond. No.                     5.97e+04\n",
      "==============================================================================\n",
      "\n",
      "Notes:\n",
      "[1] R² is computed without centering (uncentered) since the model does not contain a constant.\n",
      "[2] Standard Errors assume that the covariance matrix of the errors is correctly specified.\n",
      "[3] The condition number is large, 5.97e+04. This might indicate that there are\n",
      "strong multicollinearity or other numerical problems.\n"
     ]
    }
   ],
   "source": [
    "linearModel= sm.OLS(Yvar,Xvar).fit()\n",
    "print(linearModel.summary())"
   ]
  },
  {
   "cell_type": "code",
   "execution_count": null,
   "id": "c8bc3026",
   "metadata": {},
   "outputs": [],
   "source": []
  }
 ],
 "metadata": {
  "kernelspec": {
   "display_name": "Python 3 (ipykernel)",
   "language": "python",
   "name": "python3"
  },
  "language_info": {
   "codemirror_mode": {
    "name": "ipython",
    "version": 3
   },
   "file_extension": ".py",
   "mimetype": "text/x-python",
   "name": "python",
   "nbconvert_exporter": "python",
   "pygments_lexer": "ipython3",
   "version": "3.7.3"
  }
 },
 "nbformat": 4,
 "nbformat_minor": 5
}
